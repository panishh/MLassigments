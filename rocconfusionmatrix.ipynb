{
 "cells": [
  {
   "cell_type": "code",
   "execution_count": 1,
   "metadata": {},
   "outputs": [],
   "source": [
    "import numpy as np\n",
    "import pandas as pd\n",
    "import matplotlib.pyplot as plt\n",
    "from sklearn import metrics"
   ]
  },
  {
   "cell_type": "code",
   "execution_count": 11,
   "metadata": {},
   "outputs": [],
   "source": [
    "y_test = pd.Series(['diabetes','nodiabetes','diabetes','nodiabetes','diabetes','nodiabetes','diabetes'],name='actual')\n",
    "y_pred = pd.Series(['nodiabetes','nodiabetes','diabetes','diabetes','nodiabetes','diabetes','nodiabetes'],name='prediction')"
   ]
  },
  {
   "cell_type": "code",
   "execution_count": 14,
   "metadata": {},
   "outputs": [
    {
     "name": "stdout",
     "output_type": "stream",
     "text": [
      "prediction  diabetes  nodiabetes\n",
      "actual                          \n",
      "diabetes           1           3\n",
      "nodiabetes         2           1\n"
     ]
    }
   ],
   "source": [
    "y_confusionm = pd.crosstab(y_test,y_pred)\n",
    "print(y_confusionm)"
   ]
  },
  {
   "cell_type": "code",
   "execution_count": 17,
   "metadata": {},
   "outputs": [
    {
     "name": "stdout",
     "output_type": "stream",
     "text": [
      "prediction  diabetes  nodiabetes\n",
      "actual                          \n",
      "diabetes        0.25    1.000000\n",
      "nodiabetes      0.50    0.333333\n"
     ]
    }
   ],
   "source": [
    "y_normal = y_confusionm/y_confusionm.sum(axis=1)\n",
    "print(y_normal)"
   ]
  },
  {
   "cell_type": "code",
   "execution_count": 18,
   "metadata": {},
   "outputs": [],
   "source": [
    "tp = 0\n",
    "tn = 0\n",
    "fp = 0\n",
    "fn = 0\n",
    "\n",
    "for v in range(len(y_pred)):\n",
    "    if y_pred[v]==y_test[v]=='diabetes':\n",
    "        tp+=1\n",
    "    if y_pred[v]==y_test[v]=='nodiabetes':\n",
    "        tn+=1\n",
    "    if y_pred[v]=='diabetes' and y_test[v]!=y_pred[v]:\n",
    "        fp+=1\n",
    "    if y_pred[v]=='nodiabetes' and y_test[v]!=y_pred[v]:\n",
    "        fn+=1"
   ]
  },
  {
   "cell_type": "code",
   "execution_count": 19,
   "metadata": {},
   "outputs": [
    {
     "name": "stdout",
     "output_type": "stream",
     "text": [
      "true positive: 1\n",
      "true negative: 1\n",
      "false positive: 2\n",
      "false negative: 3\n"
     ]
    }
   ],
   "source": [
    "print('true positive:',tp)\n",
    "print('true negative:',tn)\n",
    "print('false positive:',fp)\n",
    "print('false negative:',fn)"
   ]
  },
  {
   "cell_type": "code",
   "execution_count": 20,
   "metadata": {},
   "outputs": [
    {
     "data": {
      "text/plain": [
       "(0.25, 0.6666666666666666)"
      ]
     },
     "execution_count": 20,
     "metadata": {},
     "output_type": "execute_result"
    }
   ],
   "source": [
    "tpr = tp/(tp+fn)\n",
    "fpr = fp/(fp+tn)\n",
    "tpr,fpr"
   ]
  },
  {
   "cell_type": "code",
   "execution_count": 21,
   "metadata": {},
   "outputs": [
    {
     "data": {
      "image/png": "[encoded data removed]",
      "text/plain": [
       "<Figure size 432x288 with 1 Axes>"
      ]
     },
     "metadata": {
      "needs_background": "light"
     },
     "output_type": "display_data"
    }
   ],
   "source": [
    "plt.plot(fpr,tpr,color='blue')\n",
    "plt.plot(['nodiabetes','diabetes'],['nodiabetes','diabetes'],'k')\n",
    "plt.xlabel('false_positive_rate(fpr)')\n",
    "plt.ylabel('true_positive_rate(tpr)')\n",
    "plt.title('roc_curve')\n",
    "plt.show()"
   ]
  },
  {
   "cell_type": "code",
   "execution_count": null,
   "metadata": {},
   "outputs": [],
   "source": []
  }
 ],
 "metadata": {
  "kernelspec": {
   "display_name": "Python 3",
   "language": "python",
   "name": "python3"
  },
  "language_info": {
   "codemirror_mode": {
    "name": "ipython",
    "version": 3
   },
   "file_extension": ".py",
   "mimetype": "text/x-python",
   "name": "python",
   "nbconvert_exporter": "python",
   "pygments_lexer": "ipython3",
   "version": "3.7.3"
  }
 },
 "nbformat": 4,
 "nbformat_minor": 2
}

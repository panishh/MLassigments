{
 "cells": [
  {
   "cell_type": "code",
   "execution_count": 17,
   "metadata": {},
   "outputs": [
    {
     "name": "stdout",
     "output_type": "stream",
     "text": [
      "The confusion matrix is [[1, 1], [0, 2]] \n",
      "\n",
      "Recall is  0.6666666666666666\n",
      "Precision is 1.0\n",
      "F1_score is 0.8\n"
     ]
    }
   ],
   "source": [
    "def confusionmatrix(actual, predicted, normalize = False):\n",
    "   \n",
    "    unique = sorted(set(actual))\n",
    "    matrix = [[0 for _ in unique] for _ in unique]\n",
    "    imap   = {key: i for i, key in enumerate(unique)}\n",
    "   \n",
    "   \n",
    "    for p, a in zip(predicted, actual):\n",
    "        matrix[imap[p]][imap[a]] += 1\n",
    "    if normalize:\n",
    "        sigma = sum([sum(matrix[imap[i]]) for i in unique])\n",
    "        \n",
    "        matrix = [row in map(lambda i: list(map(lambda j: j / sigma, i)), matrix)]\n",
    "    \n",
    "    return matrix\n",
    "\n",
    "y_actual = [1,0,1,1]\n",
    "y_pred = [1, 0, 1, 0,]\n",
    "confusionmatrix1 = confusionmatrix(y_actual, y_pred)\n",
    "print(\"The confusion matrix is\",confusionmatrix1,\"\\n\")   \n",
    "def performancemeasure(actual, pred):\n",
    "    TP = 0\n",
    "    FP = 0\n",
    "    TN = 0\n",
    "    FN = 0\n",
    "\n",
    "    for i in range(len(y_pred)): \n",
    "        if y_actual[i]==y_pred[i]==1:\n",
    "           TP += 1\n",
    "        if y_pred[i]==1 and y_actual[i]!=y_pred[i]:\n",
    "           FP += 1\n",
    "        if y_actual[i]==y_pred[i]==0:\n",
    "           TN += 1\n",
    "        if y_pred[i]==0 and y_actual[i]!=y_pred[i]:\n",
    "           FN += 1\n",
    "    recall = TP/(TP+FN)\n",
    "    print(\"Recall is:       \"\"\\n\",recall,'\\n')\n",
    "    precision = TP/(TP+FP)\n",
    "    print(\"Precision is:      \",precision,'\\n')\n",
    "    f1_score = (2 * precision * recall) / (precision + recall)\n",
    "    print(\"F1_score is:   \",f1_score,'\\n')\n",
    "#     return(TP, FP, TN, FN)\n",
    "perf_measure(y_actual, y_pred)"
   ]
  },
  {
   "cell_type": "code",
   "execution_count": null,
   "metadata": {},
   "outputs": [],
   "source": []
  },
  {
   "cell_type": "code",
   "execution_count": null,
   "metadata": {},
   "outputs": [],
   "source": []
  }
 ],
 "metadata": {
  "kernelspec": {
   "display_name": "Python 3",
   "language": "python",
   "name": "python3"
  },
  "language_info": {
   "codemirror_mode": {
    "name": "ipython",
    "version": 3
   },
   "file_extension": ".py",
   "mimetype": "text/x-python",
   "name": "python",
   "nbconvert_exporter": "python",
   "pygments_lexer": "ipython3",
   "version": "3.7.3"
  }
 },
 "nbformat": 4,
 "nbformat_minor": 2
}

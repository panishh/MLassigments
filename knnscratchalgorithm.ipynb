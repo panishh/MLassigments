{
 "cells": [
  {
   "cell_type": "code",
   "execution_count": 1,
   "metadata": {},
   "outputs": [],
   "source": [
    "import numpy as np"
   ]
  },
  {
   "cell_type": "code",
   "execution_count": 2,
   "metadata": {},
   "outputs": [],
   "source": [
    "def distance1(a,b):         \n",
    "    \n",
    "    (x,y)=a                  \n",
    "    #print(x,y)\n",
    "    (h,j)=b                   \n",
    "    #print(h,j)\n",
    "    eud= ((y-j)*(y-j))+((x-h)*(x-h))    \n",
    "    E=np.sqrt(eud)\n",
    "    EU=np.round(E,2)\n",
    "    \n",
    "    k.append(EU)\n",
    "    return EU"
   ]
  },
  {
   "cell_type": "code",
   "execution_count": 3,
   "metadata": {},
   "outputs": [],
   "source": [
    "def distance2(a,b):           \n",
    "    \n",
    "    (x,y)=a                   \n",
    "    #print(x,y)\n",
    "    (h,j)=b                  \n",
    "    #print(h,j)\n",
    "    eud= ((y-j)*(y-j))+((x-h)*(x-h))              \n",
    "    E=np.sqrt(eud)\n",
    "    EU=np.round(E,2)\n",
    "    \n",
    "    l.append(EU)\n",
    "    return EU  \n"
   ]
  },
  {
   "cell_type": "code",
   "execution_count": 12,
   "metadata": {},
   "outputs": [
    {
     "name": "stdout",
     "output_type": "stream",
     "text": [
      "enter K value2\n",
      " \n",
      "class0 = x\n",
      "class1 = o\n",
      " \n"
     ]
    }
   ],
   "source": [
    "K=int(input(\"enter K value\"))      \n",
    "print(\" \")\n",
    "print(\"class0 = x\")\n",
    "print(\"class1 = o\")\n",
    "print(\" \")\n",
    "k=[]         \n",
    "l=[]         \n",
    "lista=[]    \n",
    "listb={}     \n",
    "xb=[]        \n",
    "ob=[]        \n"
   ]
  },
  {
   "cell_type": "code",
   "execution_count": 5,
   "metadata": {},
   "outputs": [],
   "source": [
    "x0=[]\n",
    "y0=[]"
   ]
  },
  {
   "cell_type": "code",
   "execution_count": 6,
   "metadata": {},
   "outputs": [],
   "source": [
    "x0=[0,1,2,3,4,5,6,7,8,9]\n",
    "y0=[0,1,2,3,4,5,6,7,8,9]"
   ]
  },
  {
   "cell_type": "code",
   "execution_count": 7,
   "metadata": {},
   "outputs": [
    {
     "name": "stdout",
     "output_type": "stream",
     "text": [
      "dataset\n",
      " \n",
      "class0= x datapoints (1,6),(1,7),(2,5),(2,6),(2,9),(3,8)\n",
      "class1= o datapoints (5,4),(5,5),(6,5),(6,7),(7,8)\n",
      "to_be_classified_data (3,6)\n",
      " \n"
     ]
    }
   ],
   "source": [
    "print(\"dataset\")\n",
    "print(\" \")\n",
    "xb=[[x0[1],y0[6]],[x0[1],y0[7]],[x0[2],y0[5]],[x0[2],y0[6]],[x0[2],y0[9]],[x0[3],y0[8]]]\n",
    "print(\"class0= x datapoints (1,6),(1,7),(2,5),(2,6),(2,9),(3,8)\")\n",
    "ob=[[x0[5],y0[4]],[x0[5],y0[5]],[x0[6],y0[5]],[x0[6],y0[7]],[x0[7],y0[8]]]\n",
    "print(\"class1= o datapoints (5,4),(5,5),(6,5),(6,7),(7,8)\")\n",
    "a=[x0[3],y0[6]]\n",
    "print(\"to_be_classified_data (3,6)\")\n",
    "print(\" \")\n",
    "    "
   ]
  },
  {
   "cell_type": "code",
   "execution_count": 8,
   "metadata": {},
   "outputs": [
    {
     "name": "stdout",
     "output_type": "stream",
     "text": [
      "class0: x  [[1, 6], 2.0]\n",
      "class0: x  [[1, 7], 2.24]\n",
      "class0: x  [[2, 5], 1.41]\n",
      "class0: x  [[2, 6], 1.0]\n",
      "class0: x  [[2, 9], 3.16]\n",
      "class0: x  [[3, 8], 2.0]\n",
      " \n",
      "distances of x  [2.0, 2.24, 1.41, 1.0, 3.16, 2.0]\n",
      " \n",
      "sorted distances of x  [1.   1.41 2.   2.   2.24 3.16]\n",
      " \n"
     ]
    }
   ],
   "source": [
    "for i in xb:\n",
    "    b=i\n",
    "    val=distance1(a,b)     \n",
    "    lista=[b,val]            \n",
    "    \n",
    "    print(\"class0: x \", lista)\n",
    "    \n",
    "print(\" \")\n",
    "print(\"distances of x \", k)\n",
    "print(\" \")\n",
    "print(\"sorted distances of x \", np.sort(k))\n",
    "print(\" \")"
   ]
  },
  {
   "cell_type": "code",
   "execution_count": 10,
   "metadata": {},
   "outputs": [
    {
     "name": "stdout",
     "output_type": "stream",
     "text": [
      "class1: o  [[5, 4], 2.83]\n",
      "class1: o  [[5, 5], 2.24]\n",
      "class1: o  [[6, 5], 3.16]\n",
      "class1: o  [[6, 7], 3.16]\n",
      "class1: o  [[7, 8], 4.47]\n",
      " \n",
      "distances of o  [2.83, 2.24, 3.16, 3.16, 4.47, 2.83, 2.24, 3.16, 3.16, 4.47]\n",
      " \n",
      "sorted distances of o  [2.24 2.24 2.83 2.83 3.16 3.16 3.16 3.16 4.47 4.47]\n",
      " \n",
      "all the distances of x and o  [1.   1.41 2.   2.   2.24 2.24 2.24 2.83 2.83 3.16 3.16 3.16 3.16 3.16\n",
      " 4.47 4.47]\n",
      " \n"
     ]
    }
   ],
   "source": [
    "for j in ob:\n",
    "    b=j\n",
    "    val=distance2(a,b)       \n",
    "                             \n",
    "                    \n",
    "    listb=[b,val]          \n",
    "    \n",
    "    \n",
    "    print(\"class1: o \",listb)\n",
    "print(\" \")    \n",
    "print(\"distances of o \", l)\n",
    "print(\" \")\n",
    "print(\"sorted distances of o \", np.sort(l))\n",
    "print(\" \")\n",
    "\n",
    "u=k+l                        \n",
    "t=np.sort(u)                 \n",
    "print(\"all the distances of x and o \", t)\n",
    "print(\" \")"
   ]
  },
  {
   "cell_type": "code",
   "execution_count": 11,
   "metadata": {},
   "outputs": [
    {
     "name": "stdout",
     "output_type": "stream",
     "text": [
      "the nearest  2  distances are  [1.0, 1.41]\n"
     ]
    }
   ],
   "source": [
    "i=0                       \n",
    "f=[]                      \n",
    "fl=0                       \n",
    "while(i<K):\n",
    "    fl=t[i]\n",
    "    f.append(fl)          \n",
    "    i=i+1\n",
    "    \n",
    "print(\"the nearest \",K,\" distances are \", f)\n"
   ]
  },
  {
   "cell_type": "code",
   "execution_count": null,
   "metadata": {},
   "outputs": [],
   "source": []
  }
 ],
 "metadata": {
  "kernelspec": {
   "display_name": "Python 3",
   "language": "python",
   "name": "python3"
  },
  "language_info": {
   "codemirror_mode": {
    "name": "ipython",
    "version": 3
   },
   "file_extension": ".py",
   "mimetype": "text/x-python",
   "name": "python",
   "nbconvert_exporter": "python",
   "pygments_lexer": "ipython3",
   "version": "3.7.3"
  }
 },
 "nbformat": 4,
 "nbformat_minor": 2
}
